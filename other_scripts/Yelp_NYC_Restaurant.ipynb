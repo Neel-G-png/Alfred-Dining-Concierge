{
  "cells": [
    {
      "cell_type": "code",
      "execution_count": null,
      "metadata": {
        "colab": {
          "base_uri": "https://localhost:8080/"
        },
        "id": "-nFni_YneP70",
        "outputId": "b7203777-c4da-4eb7-d576-d5e31934a329"
      },
      "outputs": [],
      "source": [
        "!pip install boto3"
      ]
    },
    {
      "cell_type": "code",
      "execution_count": null,
      "metadata": {
        "colab": {
          "base_uri": "https://localhost:8080/"
        },
        "collapsed": true,
        "id": "8BgciNbPeP70",
        "outputId": "cfddf6b6-85bc-42d7-b1e2-7a2d64cf0888"
      },
      "outputs": [],
      "source": [
        "!pip install awscli"
      ]
    },
    {
      "cell_type": "code",
      "execution_count": null,
      "metadata": {
        "colab": {
          "base_uri": "https://localhost:8080/"
        },
        "id": "ICBBNcLQfOp2",
        "outputId": "91a4bd97-2a6f-43d1-dc90-70ab029fc695"
      },
      "outputs": [],
      "source": [
        "!pip install opensearch-py"
      ]
    },
    {
      "cell_type": "code",
      "execution_count": null,
      "metadata": {
        "id": "NUkMaTfpnj0p"
      },
      "outputs": [],
      "source": [
        "import requests\n",
        "import json\n",
        "import time\n",
        "from datetime import datetime\n",
        "from decimal import Decimal\n",
        "from opensearchpy import OpenSearch"
      ]
    },
    {
      "cell_type": "code",
      "execution_count": null,
      "metadata": {
        "id": "7FdqHRBYeP70"
      },
      "outputs": [],
      "source": [
        "import boto3"
      ]
    },
    {
      "cell_type": "code",
      "execution_count": null,
      "metadata": {
        "id": "eEyQkf4DeP70"
      },
      "outputs": [],
      "source": [
        "access_key = \"secret_key\"\n",
        "Secret = \"secrets\""
      ]
    },
    {
      "cell_type": "code",
      "execution_count": null,
      "metadata": {
        "colab": {
          "base_uri": "https://localhost:8080/"
        },
        "id": "Lc9RubkpeP71",
        "outputId": "32727074-01c3-4d4b-9504-d248d03c2a7a"
      },
      "outputs": [],
      "source": [
        "!aws configure"
      ]
    },
    {
      "cell_type": "code",
      "execution_count": null,
      "metadata": {
        "id": "e0avOfy2eP71"
      },
      "outputs": [],
      "source": [
        "dynamodb = boto3.resource('dynamodb', region_name='us-east-1')"
      ]
    },
    {
      "cell_type": "code",
      "execution_count": null,
      "metadata": {
        "id": "b4QM3mWyeP71"
      },
      "outputs": [],
      "source": [
        "table = dynamodb.Table('yelp-restaurants')"
      ]
    },
    {
      "cell_type": "code",
      "execution_count": null,
      "metadata": {
        "id": "CRvMYeHCnr8E"
      },
      "outputs": [],
      "source": [
        "API_KEY = 'your_api_key'"
      ]
    },
    {
      "cell_type": "code",
      "execution_count": null,
      "metadata": {
        "id": "JvndTsM3nxDZ"
      },
      "outputs": [],
      "source": [
        "headers = {\n",
        "    'Authorization': f'Bearer {API_KEY}',\n",
        "    \"accept\": \"application/json\"\n",
        "}"
      ]
    },
    {
      "cell_type": "code",
      "execution_count": null,
      "metadata": {
        "id": "ZKm6iuqynygX"
      },
      "outputs": [],
      "source": [
        "url = \"https://api.yelp.com/v3/businesses/search\""
      ]
    },
    {
      "cell_type": "code",
      "execution_count": null,
      "metadata": {
        "id": "1SwG6cv_oQ53"
      },
      "outputs": [],
      "source": [
        "cuisines = ['Italian', 'Mexican', 'Indian']"
      ]
    },
    {
      "cell_type": "code",
      "execution_count": null,
      "metadata": {
        "id": "p_FhhAXDn-8G"
      },
      "outputs": [],
      "source": [
        "for cuisine in cuisines:\n",
        "    params = {\n",
        "        'term': f'{cuisine} restaurant',\n",
        "        'location': 'Manhattan, NY',\n",
        "        'limit': 50,  # You can adjust the number of results returned per request (max is 50)\n",
        "        'offset' : 20,\n",
        "        'categories': 'restaurants'\n",
        "    }\n",
        "    response = requests.get(url, headers=headers, params=params)\n",
        "    data = response.json()\n",
        "    businesses = data['businesses']\n",
        "    for business in businesses:\n",
        "        restaurant = {'BusinessID' : business['id'],\n",
        "        'Name' : business['name'],\n",
        "        'Address' : business['location']['address1'],\n",
        "        'City' : business['location']['city'],\n",
        "        'State' : business['location']['state'],\n",
        "        'ZipCode' : business['location']['zip_code'],\n",
        "        'Phone' : business['phone'],\n",
        "        'Latitude' : Decimal(str(business['coordinates']['latitude'])),\n",
        "        'Longitude' : Decimal(str(business['coordinates']['longitude'])),\n",
        "        'NumberOfReviews' : business['review_count'],\n",
        "      'Rating' : Decimal(str(business['rating'])),\n",
        "      'insertedAtTimestamp' : (datetime.utcnow().isoformat() + 'Z'),\n",
        "      'Cuisine' : cuisine}\n",
        "        table.put_item(Item=restaurant)\n"
      ]
    },
    {
      "cell_type": "markdown",
      "metadata": {
        "id": "YsoFbBr5faqH"
      },
      "source": [
        "## Inserting Indexes in Opesearch"
      ]
    },
    {
      "cell_type": "code",
      "execution_count": null,
      "metadata": {
        "id": "nadim-Ynfiqy"
      },
      "outputs": [],
      "source": [
        "# Connect to OpenSearch domain\n",
        "host = 'host' # E.g., search-restaurant-search-abcxyz123.us-east-1.es.amazonaws.com\n",
        "port = 443\n",
        "auth = (username, password)\n",
        "index_name = 'restaurants'"
      ]
    },
    {
      "cell_type": "code",
      "execution_count": null,
      "metadata": {
        "id": "0JXW1i-vfkYW"
      },
      "outputs": [],
      "source": [
        "client = OpenSearch(\n",
        "    hosts=[{'host': host, 'port': port}],\n",
        "    http_auth=auth,\n",
        "    use_ssl=True,\n",
        "    verify_certs=True,\n",
        "    ssl_assert_hostname=False,\n",
        "    ssl_show_warn=False\n",
        ")"
      ]
    },
    {
      "cell_type": "code",
      "execution_count": null,
      "metadata": {
        "id": "WUNwaOz9fugR"
      },
      "outputs": [],
      "source": [
        "# Create the 'restaurants' index\n",
        "index_body = {\n",
        "    'settings': {\n",
        "        'index': {\n",
        "            'number_of_shards': 1,\n",
        "            'number_of_replicas': 0\n",
        "        }\n",
        "    }\n",
        "}"
      ]
    },
    {
      "cell_type": "code",
      "execution_count": null,
      "metadata": {
        "colab": {
          "base_uri": "https://localhost:8080/"
        },
        "id": "gQV5xeKcfwwK",
        "outputId": "cad96e6b-494b-4aa3-99b1-a51cfaa754dd"
      },
      "outputs": [
        {
          "name": "stdout",
          "output_type": "stream",
          "text": [
            "Index creation response: {'acknowledged': True, 'shards_acknowledged': True, 'index': 'restaurants'}\n"
          ]
        }
      ],
      "source": [
        "response = client.indices.create(index=index_name, body=index_body)\n",
        "print('Index creation response:', response)"
      ]
    },
    {
      "cell_type": "code",
      "execution_count": null,
      "metadata": {
        "id": "94dUF55yeq7f"
      },
      "outputs": [],
      "source": [
        "dynamodb_data = table.scan()"
      ]
    },
    {
      "cell_type": "code",
      "execution_count": null,
      "metadata": {
        "colab": {
          "base_uri": "https://localhost:8080/"
        },
        "id": "rft4vvlpgPFQ",
        "outputId": "da69da3d-c0c0-42ec-9544-887836d3e9c4"
      },
      "outputs": [
        {
          "data": {
            "text/plain": [
              "{'Phone': '+12122494111',\n",
              " 'Address': '1378 1st Ave',\n",
              " 'City': 'New York',\n",
              " 'Cuisine': 'Indian',\n",
              " 'ZipCode': '10021',\n",
              " 'Longitude': Decimal('-73.95508736811863'),\n",
              " 'insertedAtTimestamp': '2024-10-14T23:57:51.343810Z',\n",
              " 'Latitude': Decimal('40.76880997334686'),\n",
              " 'State': 'NY',\n",
              " 'BusinessID': 'VC1udoc_sbHdFaBr0-bMsA',\n",
              " 'NumberOfReviews': Decimal('198'),\n",
              " 'Rating': Decimal('4.1'),\n",
              " 'Name': 'Bombay Chowk'}"
            ]
          },
          "execution_count": 57,
          "metadata": {},
          "output_type": "execute_result"
        }
      ],
      "source": [
        "dynamodb_data['Items'][0]"
      ]
    },
    {
      "cell_type": "code",
      "execution_count": null,
      "metadata": {
        "id": "-WZDHTIPf7Nc"
      },
      "outputs": [],
      "source": [
        "for data in dynamodb_data['Items']:\n",
        "  restaurant = {'RestaurantID' : data['BusinessID'], 'Cuisine' : data['Cuisine']}\n",
        "  response = client.index(index=index_name, body=restaurant, id=restaurant['RestaurantID'])\n",
        "  print(f'Document {restaurant[\"RestaurantID\"]} inserted:', response)"
      ]
    }
  ],
  "metadata": {
    "colab": {
      "provenance": []
    },
    "kernelspec": {
      "display_name": "Python 3",
      "name": "python3"
    },
    "language_info": {
      "name": "python"
    }
  },
  "nbformat": 4,
  "nbformat_minor": 0
}
