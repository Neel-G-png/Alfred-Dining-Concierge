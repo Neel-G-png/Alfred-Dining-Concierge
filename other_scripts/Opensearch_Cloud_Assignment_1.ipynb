{
  "cells": [
    {
      "cell_type": "code",
      "execution_count": null,
      "metadata": {
        "id": "C9x-eTERLLsD"
      },
      "outputs": [],
      "source": [
        "!pip install opensearch-py\n"
      ]
    },
    {
      "cell_type": "code",
      "execution_count": null,
      "metadata": {
        "id": "YWlDLMLJMBfD"
      },
      "outputs": [],
      "source": [
        "from opensearchpy import OpenSearch"
      ]
    },
    {
      "cell_type": "code",
      "execution_count": null,
      "metadata": {
        "id": "TkPBCIKlMIrW"
      },
      "outputs": [],
      "source": [
        "# Connect to OpenSearch domain\n",
        "host = 'your host'\n",
        "port = 443\n",
        "auth = (username, password)\n",
        "index_name = 'restaurants'"
      ]
    },
    {
      "cell_type": "code",
      "execution_count": null,
      "metadata": {
        "id": "G5jSH-DVMbmH"
      },
      "outputs": [],
      "source": [
        "client = OpenSearch(\n",
        "    hosts=[{'host': host, 'port': port}],\n",
        "    http_auth=auth,\n",
        "    use_ssl=True,\n",
        "    verify_certs=True,\n",
        "    ssl_assert_hostname=False,\n",
        "    ssl_show_warn=False\n",
        ")"
      ]
    },
    {
      "cell_type": "code",
      "execution_count": null,
      "metadata": {
        "id": "UTS4HArnMfN4"
      },
      "outputs": [],
      "source": [
        "# Create the 'restaurants' index\n",
        "index_body = {\n",
        "    'settings': {\n",
        "        'index': {\n",
        "            'number_of_shards': 1,\n",
        "            'number_of_replicas': 0\n",
        "        }\n",
        "    }\n",
        "}"
      ]
    },
    {
      "cell_type": "code",
      "execution_count": null,
      "metadata": {
        "colab": {
          "base_uri": "https://localhost:8080/"
        },
        "id": "QSf1o0lqMmJj",
        "outputId": "96a9723c-e83f-449a-d38e-27a966611174"
      },
      "outputs": [
        {
          "name": "stdout",
          "output_type": "stream",
          "text": [
            "Index creation response: {'acknowledged': True, 'shards_acknowledged': True, 'index': 'restaurants'}\n"
          ]
        }
      ],
      "source": [
        "response = client.indices.create(index=index_name, body=index_body)\n",
        "print('Index creation response:', response)"
      ]
    },
    {
      "cell_type": "code",
      "execution_count": null,
      "metadata": {
        "id": "ky_ZD_6iMpQb"
      },
      "outputs": [],
      "source": []
    },
    {
      "cell_type": "markdown",
      "metadata": {
        "id": "YW0bG2YAOxzD"
      },
      "source": [
        "Getting restaurant data scraped in previous sections to clean and create indexes"
      ]
    },
    {
      "cell_type": "code",
      "execution_count": null,
      "metadata": {
        "id": "O8Y2AKwRO_nI"
      },
      "outputs": [],
      "source": [
        "import json"
      ]
    },
    {
      "cell_type": "code",
      "execution_count": null,
      "metadata": {
        "id": "I18eBFXNSCdw"
      },
      "outputs": [],
      "source": [
        "restaurants = json.load(open('restaurants_data.json'))"
      ]
    },
    {
      "cell_type": "code",
      "execution_count": null,
      "metadata": {
        "colab": {
          "base_uri": "https://localhost:8080/"
        },
        "id": "MuAWgJJlSKXi",
        "outputId": "7e2a2e33-5848-436e-8601-e1ee7afea541"
      },
      "outputs": [
        {
          "data": {
            "text/plain": [
              "dict_keys(['Italian', 'Chinese', 'Mexican', 'Japanese', 'Indian'])"
            ]
          },
          "execution_count": 22,
          "metadata": {},
          "output_type": "execute_result"
        }
      ],
      "source": [
        "restaurants.keys()"
      ]
    },
    {
      "cell_type": "code",
      "execution_count": null,
      "metadata": {
        "id": "Wmr_t9sVSQ4A"
      },
      "outputs": [],
      "source": [
        "\"\"\"As per the updated guidelines on the brightspace, It's recommended we only use 3 cuisine and 50 restaurants per cuisine.\n",
        "So choosing Indian, Italiana and Mexican Cuisines\"\"\"\n",
        "\n",
        "filtered_retauarants = {}\n",
        "cuisines = ['Indian', 'Italian', 'Mexican']\n",
        "for cuisine in cuisines:\n",
        "    filtered_retauarants[cuisine] = restaurants[cuisine][:50]"
      ]
    },
    {
      "cell_type": "code",
      "execution_count": null,
      "metadata": {
        "id": "mVugGxOYT0qN"
      },
      "outputs": [],
      "source": [
        "for cuisine in filtered_retauarants:\n",
        "    for restaurant in filtered_retauarants[cuisine]:\n",
        "        restaurant['Cuisine'] = cuisine\n",
        "        restaurant['RestaurantID'] = restaurant['id']"
      ]
    },
    {
      "cell_type": "code",
      "execution_count": null,
      "metadata": {
        "id": "MecNm3kKUKGe"
      },
      "outputs": [],
      "source": [
        "all_restaurants = []\n",
        "for cuisine in filtered_retauarants:\n",
        "    for restaurant in filtered_retauarants[cuisine]:\n",
        "        all_restaurants.append({'RestaurantID' : restaurant['RestaurantID'], 'Cuisine' : restaurant['Cuisine']})"
      ]
    },
    {
      "cell_type": "code",
      "execution_count": null,
      "metadata": {
        "colab": {
          "base_uri": "https://localhost:8080/"
        },
        "id": "nyrTIQjHUsqi",
        "outputId": "e7f5f6c0-d34a-48e4-d47f-5ca1df76cc57"
      },
      "outputs": [
        {
          "data": {
            "text/plain": [
              "[{'RestaurantID': 'DGhWO1sUWydVeR5j5ZZaMw', 'Cuisine': 'Indian'},\n",
              " {'RestaurantID': '16ZnHpuaaBt92XWeJHCC5A', 'Cuisine': 'Indian'},\n",
              " {'RestaurantID': 'hdiuRS9sVZSMReZm4oV5SA', 'Cuisine': 'Indian'},\n",
              " {'RestaurantID': 'z5hRX3iJ5Ty_S38iG_WY3Q', 'Cuisine': 'Indian'},\n",
              " {'RestaurantID': 'VvsZAnEwU4c8Xkyrzx05Nw', 'Cuisine': 'Indian'},\n",
              " {'RestaurantID': 'XsXLVWr1UZWVhKThNvNiaA', 'Cuisine': 'Indian'},\n",
              " {'RestaurantID': 'dEOv8_ivdHp85OK_TDQh_g', 'Cuisine': 'Indian'},\n",
              " {'RestaurantID': 'klAhw3xLQi9GF1tf_HnS7w', 'Cuisine': 'Indian'},\n",
              " {'RestaurantID': 'NN3mOWF5e_pnR1ArqM2bHQ', 'Cuisine': 'Indian'},\n",
              " {'RestaurantID': 'Wu0eeQ8Wk_Hjg3cleoxFlw', 'Cuisine': 'Indian'}]"
            ]
          },
          "execution_count": 30,
          "metadata": {},
          "output_type": "execute_result"
        }
      ],
      "source": [
        "all_restaurants[:10]"
      ]
    },
    {
      "cell_type": "markdown",
      "metadata": {
        "id": "HNz5lbieVxaM"
      },
      "source": [
        "Upload Scraped Data to OpenSearch"
      ]
    },
    {
      "cell_type": "code",
      "execution_count": null,
      "metadata": {
        "colab": {
          "base_uri": "https://localhost:8080/"
        },
        "id": "TlFkdgfJSp5m",
        "outputId": "bd26dadb-6b24-4e77-d16f-7cac877f2421"
      },
      "outputs": [
        {
          "name": "stdout",
          "output_type": "stream",
          "text": [
            "Document DGhWO1sUWydVeR5j5ZZaMw inserted: {'_index': 'restaurants', '_id': 'DGhWO1sUWydVeR5j5ZZaMw', '_version': 1, 'result': 'created', '_shards': {'total': 1, 'successful': 1, 'failed': 0}, '_seq_no': 0, '_primary_term': 1}\n",
            "Document 16ZnHpuaaBt92XWeJHCC5A inserted: {'_index': 'restaurants', '_id': '16ZnHpuaaBt92XWeJHCC5A', '_version': 1, 'result': 'created', '_shards': {'total': 1, 'successful': 1, 'failed': 0}, '_seq_no': 1, '_primary_term': 1}\n",
            "Document hdiuRS9sVZSMReZm4oV5SA inserted: {'_index': 'restaurants', '_id': 'hdiuRS9sVZSMReZm4oV5SA', '_version': 1, 'result': 'created', '_shards': {'total': 1, 'successful': 1, 'failed': 0}, '_seq_no': 2, '_primary_term': 1}\n",
            "Document z5hRX3iJ5Ty_S38iG_WY3Q inserted: {'_index': 'restaurants', '_id': 'z5hRX3iJ5Ty_S38iG_WY3Q', '_version': 1, 'result': 'created', '_shards': {'total': 1, 'successful': 1, 'failed': 0}, '_seq_no': 3, '_primary_term': 1}\n",
            "Document VvsZAnEwU4c8Xkyrzx05Nw inserted: {'_index': 'restaurants', '_id': 'VvsZAnEwU4c8Xkyrzx05Nw', '_version': 1, 'result': 'created', '_shards': {'total': 1, 'successful': 1, 'failed': 0}, '_seq_no': 4, '_primary_term': 1}\n",
            "Document XsXLVWr1UZWVhKThNvNiaA inserted: {'_index': 'restaurants', '_id': 'XsXLVWr1UZWVhKThNvNiaA', '_version': 1, 'result': 'created', '_shards': {'total': 1, 'successful': 1, 'failed': 0}, '_seq_no': 5, '_primary_term': 1}\n",
            "Document dEOv8_ivdHp85OK_TDQh_g inserted: {'_index': 'restaurants', '_id': 'dEOv8_ivdHp85OK_TDQh_g', '_version': 1, 'result': 'created', '_shards': {'total': 1, 'successful': 1, 'failed': 0}, '_seq_no': 6, '_primary_term': 1}\n",
            "Document klAhw3xLQi9GF1tf_HnS7w inserted: {'_index': 'restaurants', '_id': 'klAhw3xLQi9GF1tf_HnS7w', '_version': 1, 'result': 'created', '_shards': {'total': 1, 'successful': 1, 'failed': 0}, '_seq_no': 7, '_primary_term': 1}\n",
            "Document NN3mOWF5e_pnR1ArqM2bHQ inserted: {'_index': 'restaurants', '_id': 'NN3mOWF5e_pnR1ArqM2bHQ', '_version': 1, 'result': 'created', '_shards': {'total': 1, 'successful': 1, 'failed': 0}, '_seq_no': 8, '_primary_term': 1}\n",
            "Document Wu0eeQ8Wk_Hjg3cleoxFlw inserted: {'_index': 'restaurants', '_id': 'Wu0eeQ8Wk_Hjg3cleoxFlw', '_version': 1, 'result': 'created', '_shards': {'total': 1, 'successful': 1, 'failed': 0}, '_seq_no': 9, '_primary_term': 1}\n",
            "Document UK1oGbr8GU2rufpnJR4-HQ inserted: {'_index': 'restaurants', '_id': 'UK1oGbr8GU2rufpnJR4-HQ', '_version': 1, 'result': 'created', '_shards': {'total': 1, 'successful': 1, 'failed': 0}, '_seq_no': 10, '_primary_term': 1}\n",
            "Document gZz9A8k8ORC_xl0aHxtY4w inserted: {'_index': 'restaurants', '_id': 'gZz9A8k8ORC_xl0aHxtY4w', '_version': 1, 'result': 'created', '_shards': {'total': 1, 'successful': 1, 'failed': 0}, '_seq_no': 11, '_primary_term': 1}\n",
            "Document qY1o1MhoRyN84RRhUJtvpQ inserted: {'_index': 'restaurants', '_id': 'qY1o1MhoRyN84RRhUJtvpQ', '_version': 1, 'result': 'created', '_shards': {'total': 1, 'successful': 1, 'failed': 0}, '_seq_no': 12, '_primary_term': 1}\n",
            "Document orYWYTk6kNK1YODsADk_tg inserted: {'_index': 'restaurants', '_id': 'orYWYTk6kNK1YODsADk_tg', '_version': 1, 'result': 'created', '_shards': {'total': 1, 'successful': 1, 'failed': 0}, '_seq_no': 13, '_primary_term': 1}\n",
            "Document krZunArZFdp_2G1arwVuVw inserted: {'_index': 'restaurants', '_id': 'krZunArZFdp_2G1arwVuVw', '_version': 1, 'result': 'created', '_shards': {'total': 1, 'successful': 1, 'failed': 0}, '_seq_no': 14, '_primary_term': 1}\n",
            "Document cJ837cA4SILruB3ArOZiSw inserted: {'_index': 'restaurants', '_id': 'cJ837cA4SILruB3ArOZiSw', '_version': 1, 'result': 'created', '_shards': {'total': 1, 'successful': 1, 'failed': 0}, '_seq_no': 15, '_primary_term': 1}\n",
            "Document xMUZfoyzyJoTfZxrEZus4Q inserted: {'_index': 'restaurants', '_id': 'xMUZfoyzyJoTfZxrEZus4Q', '_version': 1, 'result': 'created', '_shards': {'total': 1, 'successful': 1, 'failed': 0}, '_seq_no': 16, '_primary_term': 1}\n",
            "Document VmdyRRMtUXOWV7F7w0ImwQ inserted: {'_index': 'restaurants', '_id': 'VmdyRRMtUXOWV7F7w0ImwQ', '_version': 1, 'result': 'created', '_shards': {'total': 1, 'successful': 1, 'failed': 0}, '_seq_no': 17, '_primary_term': 1}\n",
            "Document 7xe5Pd4fvN2vo05FP2XOeg inserted: {'_index': 'restaurants', '_id': '7xe5Pd4fvN2vo05FP2XOeg', '_version': 1, 'result': 'created', '_shards': {'total': 1, 'successful': 1, 'failed': 0}, '_seq_no': 18, '_primary_term': 1}\n",
            "Document LVGDm8ZYSzYom7SYsjgXfQ inserted: {'_index': 'restaurants', '_id': 'LVGDm8ZYSzYom7SYsjgXfQ', '_version': 1, 'result': 'created', '_shards': {'total': 1, 'successful': 1, 'failed': 0}, '_seq_no': 19, '_primary_term': 1}\n",
            "Document QPEzLkO35OTYijFhs8d7-w inserted: {'_index': 'restaurants', '_id': 'QPEzLkO35OTYijFhs8d7-w', '_version': 1, 'result': 'created', '_shards': {'total': 1, 'successful': 1, 'failed': 0}, '_seq_no': 20, '_primary_term': 1}\n",
            "Document CIzl1SAhtNUGEkLgvTB9zQ inserted: {'_index': 'restaurants', '_id': 'CIzl1SAhtNUGEkLgvTB9zQ', '_version': 1, 'result': 'created', '_shards': {'total': 1, 'successful': 1, 'failed': 0}, '_seq_no': 21, '_primary_term': 1}\n",
            "Document B3_K2kUVbYOU0VaLcj_LTw inserted: {'_index': 'restaurants', '_id': 'B3_K2kUVbYOU0VaLcj_LTw', '_version': 1, 'result': 'created', '_shards': {'total': 1, 'successful': 1, 'failed': 0}, '_seq_no': 22, '_primary_term': 1}\n",
            "Document DEp-9JVnKN7eTb9A_mUlfA inserted: {'_index': 'restaurants', '_id': 'DEp-9JVnKN7eTb9A_mUlfA', '_version': 1, 'result': 'created', '_shards': {'total': 1, 'successful': 1, 'failed': 0}, '_seq_no': 23, '_primary_term': 1}\n",
            "Document XsElXaLxUPKquI78poB8yw inserted: {'_index': 'restaurants', '_id': 'XsElXaLxUPKquI78poB8yw', '_version': 1, 'result': 'created', '_shards': {'total': 1, 'successful': 1, 'failed': 0}, '_seq_no': 24, '_primary_term': 1}\n",
            "Document n7hfvvUtzeaLwKCGVegALQ inserted: {'_index': 'restaurants', '_id': 'n7hfvvUtzeaLwKCGVegALQ', '_version': 1, 'result': 'created', '_shards': {'total': 1, 'successful': 1, 'failed': 0}, '_seq_no': 25, '_primary_term': 1}\n",
            "Document 11Nbr2oTRB5Uqi36L8if8g inserted: {'_index': 'restaurants', '_id': '11Nbr2oTRB5Uqi36L8if8g', '_version': 1, 'result': 'created', '_shards': {'total': 1, 'successful': 1, 'failed': 0}, '_seq_no': 26, '_primary_term': 1}\n",
            "Document pBNMZp_tKCAfRNx7-ybcHQ inserted: {'_index': 'restaurants', '_id': 'pBNMZp_tKCAfRNx7-ybcHQ', '_version': 1, 'result': 'created', '_shards': {'total': 1, 'successful': 1, 'failed': 0}, '_seq_no': 27, '_primary_term': 1}\n",
            "Document tnxb_qM5e7J5wIfYwJB3Ig inserted: {'_index': 'restaurants', '_id': 'tnxb_qM5e7J5wIfYwJB3Ig', '_version': 1, 'result': 'created', '_shards': {'total': 1, 'successful': 1, 'failed': 0}, '_seq_no': 28, '_primary_term': 1}\n",
            "Document Ig4LSE3TRPs5nSsfTgnniQ inserted: {'_index': 'restaurants', '_id': 'Ig4LSE3TRPs5nSsfTgnniQ', '_version': 1, 'result': 'created', '_shards': {'total': 1, 'successful': 1, 'failed': 0}, '_seq_no': 29, '_primary_term': 1}\n",
            "Document qm1J_dPA5IHij1oAnoZwHw inserted: {'_index': 'restaurants', '_id': 'qm1J_dPA5IHij1oAnoZwHw', '_version': 1, 'result': 'created', '_shards': {'total': 1, 'successful': 1, 'failed': 0}, '_seq_no': 30, '_primary_term': 1}\n",
            "Document wohLfhl0OqvDzIX50r63aw inserted: {'_index': 'restaurants', '_id': 'wohLfhl0OqvDzIX50r63aw', '_version': 1, 'result': 'created', '_shards': {'total': 1, 'successful': 1, 'failed': 0}, '_seq_no': 31, '_primary_term': 1}\n",
            "Document _Jgmhw0ywyoGyglPwB1xGA inserted: {'_index': 'restaurants', '_id': '_Jgmhw0ywyoGyglPwB1xGA', '_version': 1, 'result': 'created', '_shards': {'total': 1, 'successful': 1, 'failed': 0}, '_seq_no': 32, '_primary_term': 1}\n",
            "Document 2AwOyEUu0yBvZhc5tQ5jsA inserted: {'_index': 'restaurants', '_id': '2AwOyEUu0yBvZhc5tQ5jsA', '_version': 1, 'result': 'created', '_shards': {'total': 1, 'successful': 1, 'failed': 0}, '_seq_no': 33, '_primary_term': 1}\n",
            "Document SULHf6nGQ8sK0UpG1XU30w inserted: {'_index': 'restaurants', '_id': 'SULHf6nGQ8sK0UpG1XU30w', '_version': 1, 'result': 'created', '_shards': {'total': 1, 'successful': 1, 'failed': 0}, '_seq_no': 34, '_primary_term': 1}\n",
            "Document dpo_TBvuRi2nEzuVdO4AiQ inserted: {'_index': 'restaurants', '_id': 'dpo_TBvuRi2nEzuVdO4AiQ', '_version': 1, 'result': 'created', '_shards': {'total': 1, 'successful': 1, 'failed': 0}, '_seq_no': 35, '_primary_term': 1}\n",
            "Document YNROFa4J25EujA2g6hl9mw inserted: {'_index': 'restaurants', '_id': 'YNROFa4J25EujA2g6hl9mw', '_version': 1, 'result': 'created', '_shards': {'total': 1, 'successful': 1, 'failed': 0}, '_seq_no': 36, '_primary_term': 1}\n",
            "Document BNaveJmi-OUGKG9sRfrIhA inserted: {'_index': 'restaurants', '_id': 'BNaveJmi-OUGKG9sRfrIhA', '_version': 1, 'result': 'created', '_shards': {'total': 1, 'successful': 1, 'failed': 0}, '_seq_no': 37, '_primary_term': 1}\n",
            "Document ETgJqJHV7BW6pIr9Ox74sA inserted: {'_index': 'restaurants', '_id': 'ETgJqJHV7BW6pIr9Ox74sA', '_version': 1, 'result': 'created', '_shards': {'total': 1, 'successful': 1, 'failed': 0}, '_seq_no': 38, '_primary_term': 1}\n",
            "Document cCesIqo-LQt0cRlZAnrAZQ inserted: {'_index': 'restaurants', '_id': 'cCesIqo-LQt0cRlZAnrAZQ', '_version': 1, 'result': 'created', '_shards': {'total': 1, 'successful': 1, 'failed': 0}, '_seq_no': 39, '_primary_term': 1}\n",
            "Document tM8ZtEix8Bxg82AIKsHXcw inserted: {'_index': 'restaurants', '_id': 'tM8ZtEix8Bxg82AIKsHXcw', '_version': 1, 'result': 'created', '_shards': {'total': 1, 'successful': 1, 'failed': 0}, '_seq_no': 40, '_primary_term': 1}\n",
            "Document XujJhk-uQQezYgxyx-YN5Q inserted: {'_index': 'restaurants', '_id': 'XujJhk-uQQezYgxyx-YN5Q', '_version': 1, 'result': 'created', '_shards': {'total': 1, 'successful': 1, 'failed': 0}, '_seq_no': 41, '_primary_term': 1}\n",
            "Document 1aD88qNRb08LGBkl84GQTA inserted: {'_index': 'restaurants', '_id': '1aD88qNRb08LGBkl84GQTA', '_version': 1, 'result': 'created', '_shards': {'total': 1, 'successful': 1, 'failed': 0}, '_seq_no': 42, '_primary_term': 1}\n",
            "Document QXgp1Ac10x6yDAPWFIxnbA inserted: {'_index': 'restaurants', '_id': 'QXgp1Ac10x6yDAPWFIxnbA', '_version': 1, 'result': 'created', '_shards': {'total': 1, 'successful': 1, 'failed': 0}, '_seq_no': 43, '_primary_term': 1}\n",
            "Document kZlpYuEDs8j78A-qawCb4g inserted: {'_index': 'restaurants', '_id': 'kZlpYuEDs8j78A-qawCb4g', '_version': 1, 'result': 'created', '_shards': {'total': 1, 'successful': 1, 'failed': 0}, '_seq_no': 44, '_primary_term': 1}\n",
            "Document MaoCNdHni6MLjM9iYQqHcg inserted: {'_index': 'restaurants', '_id': 'MaoCNdHni6MLjM9iYQqHcg', '_version': 1, 'result': 'created', '_shards': {'total': 1, 'successful': 1, 'failed': 0}, '_seq_no': 45, '_primary_term': 1}\n",
            "Document C-8mGN7lt5rIraO5n-15ug inserted: {'_index': 'restaurants', '_id': 'C-8mGN7lt5rIraO5n-15ug', '_version': 1, 'result': 'created', '_shards': {'total': 1, 'successful': 1, 'failed': 0}, '_seq_no': 46, '_primary_term': 1}\n",
            "Document lSKEPxxTYxCN9oi6CXRmcQ inserted: {'_index': 'restaurants', '_id': 'lSKEPxxTYxCN9oi6CXRmcQ', '_version': 1, 'result': 'created', '_shards': {'total': 1, 'successful': 1, 'failed': 0}, '_seq_no': 47, '_primary_term': 1}\n",
            "Document X8yEmEDD9ZTkHoIRFqzcRw inserted: {'_index': 'restaurants', '_id': 'X8yEmEDD9ZTkHoIRFqzcRw', '_version': 1, 'result': 'created', '_shards': {'total': 1, 'successful': 1, 'failed': 0}, '_seq_no': 48, '_primary_term': 1}\n",
            "Document qCf1QN11Qdncpqb7PhuyVw inserted: {'_index': 'restaurants', '_id': 'qCf1QN11Qdncpqb7PhuyVw', '_version': 1, 'result': 'created', '_shards': {'total': 1, 'successful': 1, 'failed': 0}, '_seq_no': 49, '_primary_term': 1}\n",
            "Document 16ZnHpuaaBt92XWeJHCC5A inserted: {'_index': 'restaurants', '_id': '16ZnHpuaaBt92XWeJHCC5A', '_version': 2, 'result': 'updated', '_shards': {'total': 1, 'successful': 1, 'failed': 0}, '_seq_no': 50, '_primary_term': 1}\n",
            "Document hdiuRS9sVZSMReZm4oV5SA inserted: {'_index': 'restaurants', '_id': 'hdiuRS9sVZSMReZm4oV5SA', '_version': 2, 'result': 'updated', '_shards': {'total': 1, 'successful': 1, 'failed': 0}, '_seq_no': 51, '_primary_term': 1}\n",
            "Document dEOv8_ivdHp85OK_TDQh_g inserted: {'_index': 'restaurants', '_id': 'dEOv8_ivdHp85OK_TDQh_g', '_version': 2, 'result': 'updated', '_shards': {'total': 1, 'successful': 1, 'failed': 0}, '_seq_no': 52, '_primary_term': 1}\n",
            "Document VmdyRRMtUXOWV7F7w0ImwQ inserted: {'_index': 'restaurants', '_id': 'VmdyRRMtUXOWV7F7w0ImwQ', '_version': 2, 'result': 'updated', '_shards': {'total': 1, 'successful': 1, 'failed': 0}, '_seq_no': 53, '_primary_term': 1}\n",
            "Document CIzl1SAhtNUGEkLgvTB9zQ inserted: {'_index': 'restaurants', '_id': 'CIzl1SAhtNUGEkLgvTB9zQ', '_version': 2, 'result': 'updated', '_shards': {'total': 1, 'successful': 1, 'failed': 0}, '_seq_no': 54, '_primary_term': 1}\n",
            "Document DoSU8IPq-Py_YV3kYmXPfQ inserted: {'_index': 'restaurants', '_id': 'DoSU8IPq-Py_YV3kYmXPfQ', '_version': 1, 'result': 'created', '_shards': {'total': 1, 'successful': 1, 'failed': 0}, '_seq_no': 55, '_primary_term': 1}\n",
            "Document vjubSxmdG_HoBBgd39geBw inserted: {'_index': 'restaurants', '_id': 'vjubSxmdG_HoBBgd39geBw', '_version': 1, 'result': 'created', '_shards': {'total': 1, 'successful': 1, 'failed': 0}, '_seq_no': 56, '_primary_term': 1}\n",
            "Document OWNmOq-TAsHjGcYdCVclSw inserted: {'_index': 'restaurants', '_id': 'OWNmOq-TAsHjGcYdCVclSw', '_version': 1, 'result': 'created', '_shards': {'total': 1, 'successful': 1, 'failed': 0}, '_seq_no': 57, '_primary_term': 1}\n",
            "Document h37t9rA06Sr4EetJjKrfzw inserted: {'_index': 'restaurants', '_id': 'h37t9rA06Sr4EetJjKrfzw', '_version': 1, 'result': 'created', '_shards': {'total': 1, 'successful': 1, 'failed': 0}, '_seq_no': 58, '_primary_term': 1}\n",
            "Document 5CuYWr0-cE01HxlBu5Ka6g inserted: {'_index': 'restaurants', '_id': '5CuYWr0-cE01HxlBu5Ka6g', '_version': 1, 'result': 'created', '_shards': {'total': 1, 'successful': 1, 'failed': 0}, '_seq_no': 59, '_primary_term': 1}\n",
            "Document C9BjYm4WyoQFPQUHmBErDg inserted: {'_index': 'restaurants', '_id': 'C9BjYm4WyoQFPQUHmBErDg', '_version': 1, 'result': 'created', '_shards': {'total': 1, 'successful': 1, 'failed': 0}, '_seq_no': 60, '_primary_term': 1}\n",
            "Document JFmWkslCGTeuwC_Yews4-Q inserted: {'_index': 'restaurants', '_id': 'JFmWkslCGTeuwC_Yews4-Q', '_version': 1, 'result': 'created', '_shards': {'total': 1, 'successful': 1, 'failed': 0}, '_seq_no': 61, '_primary_term': 1}\n",
            "Document WG639VkTjmK5dzydd1BBJA inserted: {'_index': 'restaurants', '_id': 'WG639VkTjmK5dzydd1BBJA', '_version': 1, 'result': 'created', '_shards': {'total': 1, 'successful': 1, 'failed': 0}, '_seq_no': 62, '_primary_term': 1}\n",
            "Document rFeNJtqgMWf2tWy-RB6jgg inserted: {'_index': 'restaurants', '_id': 'rFeNJtqgMWf2tWy-RB6jgg', '_version': 1, 'result': 'created', '_shards': {'total': 1, 'successful': 1, 'failed': 0}, '_seq_no': 63, '_primary_term': 1}\n",
            "Document LkV96_buOU_n0br4SBO57w inserted: {'_index': 'restaurants', '_id': 'LkV96_buOU_n0br4SBO57w', '_version': 1, 'result': 'created', '_shards': {'total': 1, 'successful': 1, 'failed': 0}, '_seq_no': 64, '_primary_term': 1}\n",
            "Document 8oO6j7AlnAbMSJs9Oj9GIw inserted: {'_index': 'restaurants', '_id': '8oO6j7AlnAbMSJs9Oj9GIw', '_version': 1, 'result': 'created', '_shards': {'total': 1, 'successful': 1, 'failed': 0}, '_seq_no': 65, '_primary_term': 1}\n",
            "Document 22nKUyCIbpnzR6R3_g1ptQ inserted: {'_index': 'restaurants', '_id': '22nKUyCIbpnzR6R3_g1ptQ', '_version': 1, 'result': 'created', '_shards': {'total': 1, 'successful': 1, 'failed': 0}, '_seq_no': 66, '_primary_term': 1}\n",
            "Document dc3hkLkAqCSxDWQzrx-g9A inserted: {'_index': 'restaurants', '_id': 'dc3hkLkAqCSxDWQzrx-g9A', '_version': 1, 'result': 'created', '_shards': {'total': 1, 'successful': 1, 'failed': 0}, '_seq_no': 67, '_primary_term': 1}\n",
            "Document Zp-K3ztVTzR-LrWwl_CBgA inserted: {'_index': 'restaurants', '_id': 'Zp-K3ztVTzR-LrWwl_CBgA', '_version': 1, 'result': 'created', '_shards': {'total': 1, 'successful': 1, 'failed': 0}, '_seq_no': 68, '_primary_term': 1}\n",
            "Document 5F9kZPnAleDYqCeCyvGJPA inserted: {'_index': 'restaurants', '_id': '5F9kZPnAleDYqCeCyvGJPA', '_version': 1, 'result': 'created', '_shards': {'total': 1, 'successful': 1, 'failed': 0}, '_seq_no': 69, '_primary_term': 1}\n",
            "Document K9Ur20N51Li3sAvaV9-6Ng inserted: {'_index': 'restaurants', '_id': 'K9Ur20N51Li3sAvaV9-6Ng', '_version': 1, 'result': 'created', '_shards': {'total': 1, 'successful': 1, 'failed': 0}, '_seq_no': 70, '_primary_term': 1}\n",
            "Document tRIHhPKryUZ56SfIz6mLiA inserted: {'_index': 'restaurants', '_id': 'tRIHhPKryUZ56SfIz6mLiA', '_version': 1, 'result': 'created', '_shards': {'total': 1, 'successful': 1, 'failed': 0}, '_seq_no': 71, '_primary_term': 1}\n",
            "Document BPo5XByMdNiXK_i--gqiRA inserted: {'_index': 'restaurants', '_id': 'BPo5XByMdNiXK_i--gqiRA', '_version': 1, 'result': 'created', '_shards': {'total': 1, 'successful': 1, 'failed': 0}, '_seq_no': 72, '_primary_term': 1}\n",
            "Document raqwXUBlnc0e8c7CYmxEJQ inserted: {'_index': 'restaurants', '_id': 'raqwXUBlnc0e8c7CYmxEJQ', '_version': 1, 'result': 'created', '_shards': {'total': 1, 'successful': 1, 'failed': 0}, '_seq_no': 73, '_primary_term': 1}\n",
            "Document xsQTIeq-WLkp4ParkTQpMQ inserted: {'_index': 'restaurants', '_id': 'xsQTIeq-WLkp4ParkTQpMQ', '_version': 1, 'result': 'created', '_shards': {'total': 1, 'successful': 1, 'failed': 0}, '_seq_no': 74, '_primary_term': 1}\n",
            "Document NlmP5x_Ykznd55Dc85ChUg inserted: {'_index': 'restaurants', '_id': 'NlmP5x_Ykznd55Dc85ChUg', '_version': 1, 'result': 'created', '_shards': {'total': 1, 'successful': 1, 'failed': 0}, '_seq_no': 75, '_primary_term': 1}\n",
            "Document 6eqrk1wCQMww_ejze5gvsg inserted: {'_index': 'restaurants', '_id': '6eqrk1wCQMww_ejze5gvsg', '_version': 1, 'result': 'created', '_shards': {'total': 1, 'successful': 1, 'failed': 0}, '_seq_no': 76, '_primary_term': 1}\n",
            "Document HR49vM1-kwejaSTwVrEfBw inserted: {'_index': 'restaurants', '_id': 'HR49vM1-kwejaSTwVrEfBw', '_version': 1, 'result': 'created', '_shards': {'total': 1, 'successful': 1, 'failed': 0}, '_seq_no': 77, '_primary_term': 1}\n",
            "Document 32WerL8Y97eDpHQqoRh6CA inserted: {'_index': 'restaurants', '_id': '32WerL8Y97eDpHQqoRh6CA', '_version': 1, 'result': 'created', '_shards': {'total': 1, 'successful': 1, 'failed': 0}, '_seq_no': 78, '_primary_term': 1}\n",
            "Document V3USzFEGhuoXez4G2Rk11A inserted: {'_index': 'restaurants', '_id': 'V3USzFEGhuoXez4G2Rk11A', '_version': 1, 'result': 'created', '_shards': {'total': 1, 'successful': 1, 'failed': 0}, '_seq_no': 79, '_primary_term': 1}\n",
            "Document 26emJlm1YMFyOCezfgVk4g inserted: {'_index': 'restaurants', '_id': '26emJlm1YMFyOCezfgVk4g', '_version': 1, 'result': 'created', '_shards': {'total': 1, 'successful': 1, 'failed': 0}, '_seq_no': 80, '_primary_term': 1}\n",
            "Document 5TX0X8w5ssIACU_pnBEq6g inserted: {'_index': 'restaurants', '_id': '5TX0X8w5ssIACU_pnBEq6g', '_version': 1, 'result': 'created', '_shards': {'total': 1, 'successful': 1, 'failed': 0}, '_seq_no': 81, '_primary_term': 1}\n",
            "Document 6a0hIQTRVP-zlj_AQHrd6A inserted: {'_index': 'restaurants', '_id': '6a0hIQTRVP-zlj_AQHrd6A', '_version': 1, 'result': 'created', '_shards': {'total': 1, 'successful': 1, 'failed': 0}, '_seq_no': 82, '_primary_term': 1}\n",
            "Document CxvjELoFzpQz-8X4UCcB6A inserted: {'_index': 'restaurants', '_id': 'CxvjELoFzpQz-8X4UCcB6A', '_version': 1, 'result': 'created', '_shards': {'total': 1, 'successful': 1, 'failed': 0}, '_seq_no': 83, '_primary_term': 1}\n",
            "Document LXdblKc5g1Dp17xiV-Am1w inserted: {'_index': 'restaurants', '_id': 'LXdblKc5g1Dp17xiV-Am1w', '_version': 1, 'result': 'created', '_shards': {'total': 1, 'successful': 1, 'failed': 0}, '_seq_no': 84, '_primary_term': 1}\n",
            "Document wV2YuZKjk5VhZz3I27xtsA inserted: {'_index': 'restaurants', '_id': 'wV2YuZKjk5VhZz3I27xtsA', '_version': 1, 'result': 'created', '_shards': {'total': 1, 'successful': 1, 'failed': 0}, '_seq_no': 85, '_primary_term': 1}\n",
            "Document LUjq-_hs89D5N1UGcmKAQw inserted: {'_index': 'restaurants', '_id': 'LUjq-_hs89D5N1UGcmKAQw', '_version': 1, 'result': 'created', '_shards': {'total': 1, 'successful': 1, 'failed': 0}, '_seq_no': 86, '_primary_term': 1}\n",
            "Document HodL0fXoF08C3Ir-kLeTtw inserted: {'_index': 'restaurants', '_id': 'HodL0fXoF08C3Ir-kLeTtw', '_version': 1, 'result': 'created', '_shards': {'total': 1, 'successful': 1, 'failed': 0}, '_seq_no': 87, '_primary_term': 1}\n",
            "Document vVVmHacu2YAxKfpIjhfd1g inserted: {'_index': 'restaurants', '_id': 'vVVmHacu2YAxKfpIjhfd1g', '_version': 1, 'result': 'created', '_shards': {'total': 1, 'successful': 1, 'failed': 0}, '_seq_no': 88, '_primary_term': 1}\n",
            "Document hveuXFWS53S1wWpaK0nokw inserted: {'_index': 'restaurants', '_id': 'hveuXFWS53S1wWpaK0nokw', '_version': 1, 'result': 'created', '_shards': {'total': 1, 'successful': 1, 'failed': 0}, '_seq_no': 89, '_primary_term': 1}\n",
            "Document WESN7P6dKjgipjcd8laKIg inserted: {'_index': 'restaurants', '_id': 'WESN7P6dKjgipjcd8laKIg', '_version': 1, 'result': 'created', '_shards': {'total': 1, 'successful': 1, 'failed': 0}, '_seq_no': 90, '_primary_term': 1}\n",
            "Document 4WDHrSodF1Xidv9ezS6Sgg inserted: {'_index': 'restaurants', '_id': '4WDHrSodF1Xidv9ezS6Sgg', '_version': 1, 'result': 'created', '_shards': {'total': 1, 'successful': 1, 'failed': 0}, '_seq_no': 91, '_primary_term': 1}\n",
            "Document kIK1DBH6ODkSouhvz-4VWA inserted: {'_index': 'restaurants', '_id': 'kIK1DBH6ODkSouhvz-4VWA', '_version': 1, 'result': 'created', '_shards': {'total': 1, 'successful': 1, 'failed': 0}, '_seq_no': 92, '_primary_term': 1}\n",
            "Document E48WbksxAk19a8vjJRVIVQ inserted: {'_index': 'restaurants', '_id': 'E48WbksxAk19a8vjJRVIVQ', '_version': 1, 'result': 'created', '_shards': {'total': 1, 'successful': 1, 'failed': 0}, '_seq_no': 93, '_primary_term': 1}\n",
            "Document eMqKFQbKQXq82EUVnlPguw inserted: {'_index': 'restaurants', '_id': 'eMqKFQbKQXq82EUVnlPguw', '_version': 1, 'result': 'created', '_shards': {'total': 1, 'successful': 1, 'failed': 0}, '_seq_no': 94, '_primary_term': 1}\n",
            "Document rp8S7scxOkVVeG7dNneMGQ inserted: {'_index': 'restaurants', '_id': 'rp8S7scxOkVVeG7dNneMGQ', '_version': 1, 'result': 'created', '_shards': {'total': 1, 'successful': 1, 'failed': 0}, '_seq_no': 95, '_primary_term': 1}\n",
            "Document JLpEKUYAtzBRQwsUL3RPIA inserted: {'_index': 'restaurants', '_id': 'JLpEKUYAtzBRQwsUL3RPIA', '_version': 1, 'result': 'created', '_shards': {'total': 1, 'successful': 1, 'failed': 0}, '_seq_no': 96, '_primary_term': 1}\n",
            "Document ZFaIpks0AmQKdFvqYbj0QQ inserted: {'_index': 'restaurants', '_id': 'ZFaIpks0AmQKdFvqYbj0QQ', '_version': 1, 'result': 'created', '_shards': {'total': 1, 'successful': 1, 'failed': 0}, '_seq_no': 97, '_primary_term': 1}\n",
            "Document Z-QmxQZAJEy5GXqA82Bemw inserted: {'_index': 'restaurants', '_id': 'Z-QmxQZAJEy5GXqA82Bemw', '_version': 1, 'result': 'created', '_shards': {'total': 1, 'successful': 1, 'failed': 0}, '_seq_no': 98, '_primary_term': 1}\n",
            "Document yIFI6afTRP-tBhY6WsUOPg inserted: {'_index': 'restaurants', '_id': 'yIFI6afTRP-tBhY6WsUOPg', '_version': 1, 'result': 'created', '_shards': {'total': 1, 'successful': 1, 'failed': 0}, '_seq_no': 99, '_primary_term': 1}\n",
            "Document SULHf6nGQ8sK0UpG1XU30w inserted: {'_index': 'restaurants', '_id': 'SULHf6nGQ8sK0UpG1XU30w', '_version': 2, 'result': 'updated', '_shards': {'total': 1, 'successful': 1, 'failed': 0}, '_seq_no': 100, '_primary_term': 1}\n",
            "Document MaoCNdHni6MLjM9iYQqHcg inserted: {'_index': 'restaurants', '_id': 'MaoCNdHni6MLjM9iYQqHcg', '_version': 2, 'result': 'updated', '_shards': {'total': 1, 'successful': 1, 'failed': 0}, '_seq_no': 101, '_primary_term': 1}\n",
            "Document 7Yh4Zp-l3is-4V9MrDoAIw inserted: {'_index': 'restaurants', '_id': '7Yh4Zp-l3is-4V9MrDoAIw', '_version': 1, 'result': 'created', '_shards': {'total': 1, 'successful': 1, 'failed': 0}, '_seq_no': 102, '_primary_term': 1}\n",
            "Document Xjswj531-FkRZPpcccU6kQ inserted: {'_index': 'restaurants', '_id': 'Xjswj531-FkRZPpcccU6kQ', '_version': 1, 'result': 'created', '_shards': {'total': 1, 'successful': 1, 'failed': 0}, '_seq_no': 103, '_primary_term': 1}\n",
            "Document Wx6lMnEh7dCmX-9PQF1Ifw inserted: {'_index': 'restaurants', '_id': 'Wx6lMnEh7dCmX-9PQF1Ifw', '_version': 1, 'result': 'created', '_shards': {'total': 1, 'successful': 1, 'failed': 0}, '_seq_no': 104, '_primary_term': 1}\n",
            "Document OZHywdX0bT2MCmyUHoQNHA inserted: {'_index': 'restaurants', '_id': 'OZHywdX0bT2MCmyUHoQNHA', '_version': 1, 'result': 'created', '_shards': {'total': 1, 'successful': 1, 'failed': 0}, '_seq_no': 105, '_primary_term': 1}\n",
            "Document 2vVL7xcduF10PN17h6FQaA inserted: {'_index': 'restaurants', '_id': '2vVL7xcduF10PN17h6FQaA', '_version': 1, 'result': 'created', '_shards': {'total': 1, 'successful': 1, 'failed': 0}, '_seq_no': 106, '_primary_term': 1}\n",
            "Document WyiTT3VHjzowMnOnUpZ7TQ inserted: {'_index': 'restaurants', '_id': 'WyiTT3VHjzowMnOnUpZ7TQ', '_version': 1, 'result': 'created', '_shards': {'total': 1, 'successful': 1, 'failed': 0}, '_seq_no': 107, '_primary_term': 1}\n",
            "Document ntiDPLkWm6GDLkYh0d2tBw inserted: {'_index': 'restaurants', '_id': 'ntiDPLkWm6GDLkYh0d2tBw', '_version': 1, 'result': 'created', '_shards': {'total': 1, 'successful': 1, 'failed': 0}, '_seq_no': 108, '_primary_term': 1}\n",
            "Document HjvCwjM0EkFoYo8TFHjfww inserted: {'_index': 'restaurants', '_id': 'HjvCwjM0EkFoYo8TFHjfww', '_version': 1, 'result': 'created', '_shards': {'total': 1, 'successful': 1, 'failed': 0}, '_seq_no': 109, '_primary_term': 1}\n",
            "Document LdbANxQjzdvzBqUESYTUnw inserted: {'_index': 'restaurants', '_id': 'LdbANxQjzdvzBqUESYTUnw', '_version': 1, 'result': 'created', '_shards': {'total': 1, 'successful': 1, 'failed': 0}, '_seq_no': 110, '_primary_term': 1}\n",
            "Document 9fG8-RRh1rzuCKN2TmF-QQ inserted: {'_index': 'restaurants', '_id': '9fG8-RRh1rzuCKN2TmF-QQ', '_version': 1, 'result': 'created', '_shards': {'total': 1, 'successful': 1, 'failed': 0}, '_seq_no': 111, '_primary_term': 1}\n",
            "Document 6Ct7OeTRn4caY9g0swFBsw inserted: {'_index': 'restaurants', '_id': '6Ct7OeTRn4caY9g0swFBsw', '_version': 1, 'result': 'created', '_shards': {'total': 1, 'successful': 1, 'failed': 0}, '_seq_no': 112, '_primary_term': 1}\n",
            "Document vyKBwzRdNX4yiJDIFv37iw inserted: {'_index': 'restaurants', '_id': 'vyKBwzRdNX4yiJDIFv37iw', '_version': 1, 'result': 'created', '_shards': {'total': 1, 'successful': 1, 'failed': 0}, '_seq_no': 113, '_primary_term': 1}\n",
            "Document BsDu_kup3lJ2QHb-Botpeg inserted: {'_index': 'restaurants', '_id': 'BsDu_kup3lJ2QHb-Botpeg', '_version': 1, 'result': 'created', '_shards': {'total': 1, 'successful': 1, 'failed': 0}, '_seq_no': 114, '_primary_term': 1}\n",
            "Document SeI-nIE1Ab5U53mB_e-1KQ inserted: {'_index': 'restaurants', '_id': 'SeI-nIE1Ab5U53mB_e-1KQ', '_version': 1, 'result': 'created', '_shards': {'total': 1, 'successful': 1, 'failed': 0}, '_seq_no': 115, '_primary_term': 1}\n",
            "Document U6l20gH8YuOJMO8vF6_Ufw inserted: {'_index': 'restaurants', '_id': 'U6l20gH8YuOJMO8vF6_Ufw', '_version': 1, 'result': 'created', '_shards': {'total': 1, 'successful': 1, 'failed': 0}, '_seq_no': 116, '_primary_term': 1}\n",
            "Document uSS5cbcb_KLoXE5yzwjI6w inserted: {'_index': 'restaurants', '_id': 'uSS5cbcb_KLoXE5yzwjI6w', '_version': 1, 'result': 'created', '_shards': {'total': 1, 'successful': 1, 'failed': 0}, '_seq_no': 117, '_primary_term': 1}\n",
            "Document dgaNriM1VdI2nGochhHE_g inserted: {'_index': 'restaurants', '_id': 'dgaNriM1VdI2nGochhHE_g', '_version': 1, 'result': 'created', '_shards': {'total': 1, 'successful': 1, 'failed': 0}, '_seq_no': 118, '_primary_term': 1}\n",
            "Document MwyEUg5EXuqTf1mjKU08ng inserted: {'_index': 'restaurants', '_id': 'MwyEUg5EXuqTf1mjKU08ng', '_version': 1, 'result': 'created', '_shards': {'total': 1, 'successful': 1, 'failed': 0}, '_seq_no': 119, '_primary_term': 1}\n",
            "Document UjBZR0Vyl5zpwDVkOvNceQ inserted: {'_index': 'restaurants', '_id': 'UjBZR0Vyl5zpwDVkOvNceQ', '_version': 1, 'result': 'created', '_shards': {'total': 1, 'successful': 1, 'failed': 0}, '_seq_no': 120, '_primary_term': 1}\n",
            "Document 936DRBARkUge88wIKV9CaQ inserted: {'_index': 'restaurants', '_id': '936DRBARkUge88wIKV9CaQ', '_version': 1, 'result': 'created', '_shards': {'total': 1, 'successful': 1, 'failed': 0}, '_seq_no': 121, '_primary_term': 1}\n",
            "Document xGNzAsakHgbbl9fwgSoiUg inserted: {'_index': 'restaurants', '_id': 'xGNzAsakHgbbl9fwgSoiUg', '_version': 1, 'result': 'created', '_shards': {'total': 1, 'successful': 1, 'failed': 0}, '_seq_no': 122, '_primary_term': 1}\n",
            "Document sk10kk67wCLLz4hq_3VUeg inserted: {'_index': 'restaurants', '_id': 'sk10kk67wCLLz4hq_3VUeg', '_version': 1, 'result': 'created', '_shards': {'total': 1, 'successful': 1, 'failed': 0}, '_seq_no': 123, '_primary_term': 1}\n",
            "Document SP4bvMvxel_UPdof_er3HA inserted: {'_index': 'restaurants', '_id': 'SP4bvMvxel_UPdof_er3HA', '_version': 1, 'result': 'created', '_shards': {'total': 1, 'successful': 1, 'failed': 0}, '_seq_no': 124, '_primary_term': 1}\n",
            "Document 8ofN8cBJd2oTmdbMzlY1zA inserted: {'_index': 'restaurants', '_id': '8ofN8cBJd2oTmdbMzlY1zA', '_version': 1, 'result': 'created', '_shards': {'total': 1, 'successful': 1, 'failed': 0}, '_seq_no': 125, '_primary_term': 1}\n",
            "Document IfIyjm4SfORGYPbaAWST3g inserted: {'_index': 'restaurants', '_id': 'IfIyjm4SfORGYPbaAWST3g', '_version': 1, 'result': 'created', '_shards': {'total': 1, 'successful': 1, 'failed': 0}, '_seq_no': 126, '_primary_term': 1}\n",
            "Document 8SdKtlwT9vcowN4veZ8Sjw inserted: {'_index': 'restaurants', '_id': '8SdKtlwT9vcowN4veZ8Sjw', '_version': 1, 'result': 'created', '_shards': {'total': 1, 'successful': 1, 'failed': 0}, '_seq_no': 127, '_primary_term': 1}\n",
            "Document 2kkjzgLwKHFmLAfR86kE3Q inserted: {'_index': 'restaurants', '_id': '2kkjzgLwKHFmLAfR86kE3Q', '_version': 1, 'result': 'created', '_shards': {'total': 1, 'successful': 1, 'failed': 0}, '_seq_no': 128, '_primary_term': 1}\n",
            "Document 4UxmxAqehEIh7fYrzUEA7A inserted: {'_index': 'restaurants', '_id': '4UxmxAqehEIh7fYrzUEA7A', '_version': 1, 'result': 'created', '_shards': {'total': 1, 'successful': 1, 'failed': 0}, '_seq_no': 129, '_primary_term': 1}\n",
            "Document eM5uNo9gsztpqAFBqwWWxA inserted: {'_index': 'restaurants', '_id': 'eM5uNo9gsztpqAFBqwWWxA', '_version': 1, 'result': 'created', '_shards': {'total': 1, 'successful': 1, 'failed': 0}, '_seq_no': 130, '_primary_term': 1}\n",
            "Document 0ksKKrgHt-6xCCHfTlLcoA inserted: {'_index': 'restaurants', '_id': '0ksKKrgHt-6xCCHfTlLcoA', '_version': 1, 'result': 'created', '_shards': {'total': 1, 'successful': 1, 'failed': 0}, '_seq_no': 131, '_primary_term': 1}\n",
            "Document PqqnNrUtU7XTKQvUM4cyqQ inserted: {'_index': 'restaurants', '_id': 'PqqnNrUtU7XTKQvUM4cyqQ', '_version': 1, 'result': 'created', '_shards': {'total': 1, 'successful': 1, 'failed': 0}, '_seq_no': 132, '_primary_term': 1}\n",
            "Document xGoSAOhQBNdJMJmPn7CMDQ inserted: {'_index': 'restaurants', '_id': 'xGoSAOhQBNdJMJmPn7CMDQ', '_version': 1, 'result': 'created', '_shards': {'total': 1, 'successful': 1, 'failed': 0}, '_seq_no': 133, '_primary_term': 1}\n",
            "Document Jd2_ZC4ugEMSY9ElivNZgg inserted: {'_index': 'restaurants', '_id': 'Jd2_ZC4ugEMSY9ElivNZgg', '_version': 1, 'result': 'created', '_shards': {'total': 1, 'successful': 1, 'failed': 0}, '_seq_no': 134, '_primary_term': 1}\n",
            "Document GukBzzNsZMuwfVey06advg inserted: {'_index': 'restaurants', '_id': 'GukBzzNsZMuwfVey06advg', '_version': 1, 'result': 'created', '_shards': {'total': 1, 'successful': 1, 'failed': 0}, '_seq_no': 135, '_primary_term': 1}\n",
            "Document xrKa2SpgWzPEEbji3Iw2DQ inserted: {'_index': 'restaurants', '_id': 'xrKa2SpgWzPEEbji3Iw2DQ', '_version': 1, 'result': 'created', '_shards': {'total': 1, 'successful': 1, 'failed': 0}, '_seq_no': 136, '_primary_term': 1}\n",
            "Document SXWnyFNLCehVlJPRxk7gAg inserted: {'_index': 'restaurants', '_id': 'SXWnyFNLCehVlJPRxk7gAg', '_version': 1, 'result': 'created', '_shards': {'total': 1, 'successful': 1, 'failed': 0}, '_seq_no': 137, '_primary_term': 1}\n",
            "Document Geq1Z8TB0gegMEgdLrQuaw inserted: {'_index': 'restaurants', '_id': 'Geq1Z8TB0gegMEgdLrQuaw', '_version': 1, 'result': 'created', '_shards': {'total': 1, 'successful': 1, 'failed': 0}, '_seq_no': 138, '_primary_term': 1}\n",
            "Document xN4yKQMzo3PIoQlFamUOLQ inserted: {'_index': 'restaurants', '_id': 'xN4yKQMzo3PIoQlFamUOLQ', '_version': 1, 'result': 'created', '_shards': {'total': 1, 'successful': 1, 'failed': 0}, '_seq_no': 139, '_primary_term': 1}\n",
            "Document 7ERwg_4Kiaq1ezKTSSv7pg inserted: {'_index': 'restaurants', '_id': '7ERwg_4Kiaq1ezKTSSv7pg', '_version': 1, 'result': 'created', '_shards': {'total': 1, 'successful': 1, 'failed': 0}, '_seq_no': 140, '_primary_term': 1}\n",
            "Document nrwOQSXoRXfAYhkdjiUk8g inserted: {'_index': 'restaurants', '_id': 'nrwOQSXoRXfAYhkdjiUk8g', '_version': 1, 'result': 'created', '_shards': {'total': 1, 'successful': 1, 'failed': 0}, '_seq_no': 141, '_primary_term': 1}\n",
            "Document 7YYp_2WYWdRSt_NohV7Psw inserted: {'_index': 'restaurants', '_id': '7YYp_2WYWdRSt_NohV7Psw', '_version': 1, 'result': 'created', '_shards': {'total': 1, 'successful': 1, 'failed': 0}, '_seq_no': 142, '_primary_term': 1}\n",
            "Document k0YxAqybUffN882YanXl1A inserted: {'_index': 'restaurants', '_id': 'k0YxAqybUffN882YanXl1A', '_version': 1, 'result': 'created', '_shards': {'total': 1, 'successful': 1, 'failed': 0}, '_seq_no': 143, '_primary_term': 1}\n",
            "Document _sUCZmevEr3_hZeepPc4zA inserted: {'_index': 'restaurants', '_id': '_sUCZmevEr3_hZeepPc4zA', '_version': 1, 'result': 'created', '_shards': {'total': 1, 'successful': 1, 'failed': 0}, '_seq_no': 144, '_primary_term': 1}\n",
            "Document DFRpXRHjOHBxYHiuvwaEQQ inserted: {'_index': 'restaurants', '_id': 'DFRpXRHjOHBxYHiuvwaEQQ', '_version': 1, 'result': 'created', '_shards': {'total': 1, 'successful': 1, 'failed': 0}, '_seq_no': 145, '_primary_term': 1}\n",
            "Document vpWPgusmUD0cYNKf0uEQIw inserted: {'_index': 'restaurants', '_id': 'vpWPgusmUD0cYNKf0uEQIw', '_version': 1, 'result': 'created', '_shards': {'total': 1, 'successful': 1, 'failed': 0}, '_seq_no': 146, '_primary_term': 1}\n",
            "Document onGzhRqmlmYixXljTT3QVQ inserted: {'_index': 'restaurants', '_id': 'onGzhRqmlmYixXljTT3QVQ', '_version': 1, 'result': 'created', '_shards': {'total': 1, 'successful': 1, 'failed': 0}, '_seq_no': 147, '_primary_term': 1}\n",
            "Document 4Z0sxJTNkxhRBH3l5PG_qw inserted: {'_index': 'restaurants', '_id': '4Z0sxJTNkxhRBH3l5PG_qw', '_version': 1, 'result': 'created', '_shards': {'total': 1, 'successful': 1, 'failed': 0}, '_seq_no': 148, '_primary_term': 1}\n",
            "Document jnEv25Y2DosTq2sNnvmC9g inserted: {'_index': 'restaurants', '_id': 'jnEv25Y2DosTq2sNnvmC9g', '_version': 1, 'result': 'created', '_shards': {'total': 1, 'successful': 1, 'failed': 0}, '_seq_no': 149, '_primary_term': 1}\n"
          ]
        }
      ],
      "source": [
        "for restaurant in all_restaurants:\n",
        "    response = client.index(index=index_name, body=restaurant, id=restaurant['RestaurantID'])\n",
        "    print(f'Document {restaurant[\"RestaurantID\"]} inserted:', response)"
      ]
    },
    {
      "cell_type": "code",
      "execution_count": null,
      "metadata": {
        "id": "mcOsvoOpDjXK"
      },
      "outputs": [],
      "source": []
    }
  ],
  "metadata": {
    "colab": {
      "provenance": []
    },
    "kernelspec": {
      "display_name": "Python 3",
      "name": "python3"
    },
    "language_info": {
      "name": "python"
    }
  },
  "nbformat": 4,
  "nbformat_minor": 0
}
